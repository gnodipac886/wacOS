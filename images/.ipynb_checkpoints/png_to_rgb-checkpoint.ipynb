{
 "cells": [
  {
   "cell_type": "code",
   "execution_count": 15,
   "metadata": {},
   "outputs": [],
   "source": [
    "from scipy import misc\n",
    "import numpy as np\n",
    "import imageio\n",
    "\n",
    "np.set_printoptions(formatter={'int':hex})"
   ]
  },
  {
   "cell_type": "code",
   "execution_count": 2,
   "metadata": {},
   "outputs": [
    {
     "name": "stdout",
     "output_type": "stream",
     "text": [
      "Please type file name here(with .png): big_sur.png\n"
     ]
    }
   ],
   "source": [
    "s = input(\"Please type file name here(with .png): \")\n",
    "name = s.split('.png')[0]\n",
    "arr = np.array(imageio.imread(s))"
   ]
  },
  {
   "cell_type": "code",
   "execution_count": 12,
   "metadata": {},
   "outputs": [
    {
     "name": "stdout",
     "output_type": "stream",
     "text": [
      "[0x31 0x60 0xad 0xff]\n"
     ]
    }
   ],
   "source": [
    "print(arr[0, 0])"
   ]
  },
  {
   "cell_type": "code",
   "execution_count": 13,
   "metadata": {},
   "outputs": [],
   "source": [
    "rgb_565 = []\n",
    "# Red - 5, Green - 6, Blue - 5\n",
    "# RRRRRGGGGGGBBBBB\n",
    "for i in range(arr.shape[0]):\n",
    "    for j in range(arr.shape[1]):\n",
    "        red = ((arr[i, j, 0] & 0xF8) + (arr[i, j, 0] & 0x07) > 3) << 8\n",
    "        green = ((arr[i, j, 1] & 0xFC) + (arr[i, j, 1] & 0x03) > 1)<< 3\n",
    "        blue = (arr[i, j, 2] & 0xF8) >> 3\n",
    "\n",
    "        rgb_565.append(red | green | blue)\n",
    "rgb_565 = np.array(rgb_565)"
   ]
  },
  {
   "cell_type": "code",
   "execution_count": 17,
   "metadata": {},
   "outputs": [
    {
     "name": "stdout",
     "output_type": "stream",
     "text": [
      "[0x3315 0x3315 0x3315 ... 0x21 0x1 0x0]\n"
     ]
    }
   ],
   "source": [
    "print(rgb_565)"
   ]
  },
  {
   "cell_type": "code",
   "execution_count": null,
   "metadata": {},
   "outputs": [],
   "source": [
    "np.array(rgb_565).astype('uint8').tofile(name + \".bin\")"
   ]
  }
 ],
 "metadata": {
  "kernelspec": {
   "display_name": "Python 3",
   "language": "python",
   "name": "python3"
  },
  "language_info": {
   "codemirror_mode": {
    "name": "ipython",
    "version": 3
   },
   "file_extension": ".py",
   "mimetype": "text/x-python",
   "name": "python",
   "nbconvert_exporter": "python",
   "pygments_lexer": "ipython3",
   "version": "3.7.7"
  }
 },
 "nbformat": 4,
 "nbformat_minor": 4
}
